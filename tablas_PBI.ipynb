{
 "cells": [
  {
   "cell_type": "code",
   "execution_count": 74,
   "metadata": {},
   "outputs": [],
   "source": [
    "import pandas as pd\n",
    "import numpy as np"
   ]
  },
  {
   "cell_type": "code",
   "execution_count": 75,
   "metadata": {},
   "outputs": [],
   "source": [
    "data = pd.read_csv('./dataset/AccidentesAvionesClean.csv')"
   ]
  },
  {
   "cell_type": "code",
   "execution_count": 76,
   "metadata": {},
   "outputs": [
    {
     "data": {
      "text/plain": [
       "Index(['location', 'operator', 'route', 'type', 'all_aboard',\n",
       "       'passengers_aboard', 'crew_aboard', 'total_fatalities',\n",
       "       'passenger_fatalities', 'crew_fatalities', 'ground', 'year', 'month',\n",
       "       'day', 'country', 'decade', 'scale'],\n",
       "      dtype='object')"
      ]
     },
     "execution_count": 76,
     "metadata": {},
     "output_type": "execute_result"
    }
   ],
   "source": [
    "data.columns"
   ]
  },
  {
   "attachments": {},
   "cell_type": "markdown",
   "metadata": {},
   "source": [
    "KPI MORTALIDAD"
   ]
  },
  {
   "cell_type": "code",
   "execution_count": 77,
   "metadata": {},
   "outputs": [],
   "source": [
    "columns_kpi_1 = ['all_aboard', 'passenger_fatalities', 'crew_fatalities', 'total_fatalities', 'ground', 'year']\n",
    "kpi_1 = data[columns_kpi_1].copy()"
   ]
  },
  {
   "cell_type": "code",
   "execution_count": 78,
   "metadata": {},
   "outputs": [],
   "source": [
    "kpi_1 = kpi_1[kpi_1['year'] >= 2000]"
   ]
  },
  {
   "cell_type": "code",
   "execution_count": 79,
   "metadata": {},
   "outputs": [
    {
     "data": {
      "text/html": [
       "<div>\n",
       "<style scoped>\n",
       "    .dataframe tbody tr th:only-of-type {\n",
       "        vertical-align: middle;\n",
       "    }\n",
       "\n",
       "    .dataframe tbody tr th {\n",
       "        vertical-align: top;\n",
       "    }\n",
       "\n",
       "    .dataframe thead th {\n",
       "        text-align: right;\n",
       "    }\n",
       "</style>\n",
       "<table border=\"1\" class=\"dataframe\">\n",
       "  <thead>\n",
       "    <tr style=\"text-align: right;\">\n",
       "      <th></th>\n",
       "      <th>all_aboard</th>\n",
       "      <th>passenger_fatalities</th>\n",
       "      <th>crew_fatalities</th>\n",
       "      <th>total_fatalities</th>\n",
       "      <th>ground</th>\n",
       "      <th>year</th>\n",
       "    </tr>\n",
       "  </thead>\n",
       "  <tbody>\n",
       "    <tr>\n",
       "      <th>4033</th>\n",
       "      <td>16.0</td>\n",
       "      <td>1.0</td>\n",
       "      <td>0.0</td>\n",
       "      <td>1.0</td>\n",
       "      <td>1.0</td>\n",
       "      <td>2000</td>\n",
       "    </tr>\n",
       "    <tr>\n",
       "      <th>4034</th>\n",
       "      <td>10.0</td>\n",
       "      <td>7.0</td>\n",
       "      <td>3.0</td>\n",
       "      <td>10.0</td>\n",
       "      <td>0.0</td>\n",
       "      <td>2000</td>\n",
       "    </tr>\n",
       "    <tr>\n",
       "      <th>4035</th>\n",
       "      <td>41.0</td>\n",
       "      <td>21.0</td>\n",
       "      <td>1.0</td>\n",
       "      <td>22.0</td>\n",
       "      <td>0.0</td>\n",
       "      <td>2000</td>\n",
       "    </tr>\n",
       "    <tr>\n",
       "      <th>4036</th>\n",
       "      <td>20.0</td>\n",
       "      <td>4.0</td>\n",
       "      <td>1.0</td>\n",
       "      <td>5.0</td>\n",
       "      <td>0.0</td>\n",
       "      <td>2000</td>\n",
       "    </tr>\n",
       "    <tr>\n",
       "      <th>4037</th>\n",
       "      <td>179.0</td>\n",
       "      <td>159.0</td>\n",
       "      <td>10.0</td>\n",
       "      <td>169.0</td>\n",
       "      <td>0.0</td>\n",
       "      <td>2000</td>\n",
       "    </tr>\n",
       "  </tbody>\n",
       "</table>\n",
       "</div>"
      ],
      "text/plain": [
       "      all_aboard  passenger_fatalities  crew_fatalities  total_fatalities  \\\n",
       "4033        16.0                   1.0              0.0               1.0   \n",
       "4034        10.0                   7.0              3.0              10.0   \n",
       "4035        41.0                  21.0              1.0              22.0   \n",
       "4036        20.0                   4.0              1.0               5.0   \n",
       "4037       179.0                 159.0             10.0             169.0   \n",
       "\n",
       "      ground  year  \n",
       "4033     1.0  2000  \n",
       "4034     0.0  2000  \n",
       "4035     0.0  2000  \n",
       "4036     0.0  2000  \n",
       "4037     0.0  2000  "
      ]
     },
     "execution_count": 79,
     "metadata": {},
     "output_type": "execute_result"
    }
   ],
   "source": [
    "kpi_1.head()"
   ]
  },
  {
   "cell_type": "code",
   "execution_count": 80,
   "metadata": {},
   "outputs": [
    {
     "data": {
      "text/html": [
       "<div>\n",
       "<style scoped>\n",
       "    .dataframe tbody tr th:only-of-type {\n",
       "        vertical-align: middle;\n",
       "    }\n",
       "\n",
       "    .dataframe tbody tr th {\n",
       "        vertical-align: top;\n",
       "    }\n",
       "\n",
       "    .dataframe thead th {\n",
       "        text-align: right;\n",
       "    }\n",
       "</style>\n",
       "<table border=\"1\" class=\"dataframe\">\n",
       "  <thead>\n",
       "    <tr style=\"text-align: right;\">\n",
       "      <th></th>\n",
       "      <th>all_aboard</th>\n",
       "      <th>passenger_fatalities</th>\n",
       "      <th>crew_fatalities</th>\n",
       "      <th>total_fatalities</th>\n",
       "      <th>ground</th>\n",
       "      <th>year</th>\n",
       "      <th>accidentes</th>\n",
       "    </tr>\n",
       "  </thead>\n",
       "  <tbody>\n",
       "    <tr>\n",
       "      <th>4033</th>\n",
       "      <td>16.0</td>\n",
       "      <td>1.0</td>\n",
       "      <td>0.0</td>\n",
       "      <td>1.0</td>\n",
       "      <td>1.0</td>\n",
       "      <td>2000</td>\n",
       "      <td>1</td>\n",
       "    </tr>\n",
       "    <tr>\n",
       "      <th>4034</th>\n",
       "      <td>10.0</td>\n",
       "      <td>7.0</td>\n",
       "      <td>3.0</td>\n",
       "      <td>10.0</td>\n",
       "      <td>0.0</td>\n",
       "      <td>2000</td>\n",
       "      <td>1</td>\n",
       "    </tr>\n",
       "    <tr>\n",
       "      <th>4035</th>\n",
       "      <td>41.0</td>\n",
       "      <td>21.0</td>\n",
       "      <td>1.0</td>\n",
       "      <td>22.0</td>\n",
       "      <td>0.0</td>\n",
       "      <td>2000</td>\n",
       "      <td>1</td>\n",
       "    </tr>\n",
       "    <tr>\n",
       "      <th>4036</th>\n",
       "      <td>20.0</td>\n",
       "      <td>4.0</td>\n",
       "      <td>1.0</td>\n",
       "      <td>5.0</td>\n",
       "      <td>0.0</td>\n",
       "      <td>2000</td>\n",
       "      <td>1</td>\n",
       "    </tr>\n",
       "    <tr>\n",
       "      <th>4037</th>\n",
       "      <td>179.0</td>\n",
       "      <td>159.0</td>\n",
       "      <td>10.0</td>\n",
       "      <td>169.0</td>\n",
       "      <td>0.0</td>\n",
       "      <td>2000</td>\n",
       "      <td>1</td>\n",
       "    </tr>\n",
       "  </tbody>\n",
       "</table>\n",
       "</div>"
      ],
      "text/plain": [
       "      all_aboard  passenger_fatalities  crew_fatalities  total_fatalities  \\\n",
       "4033        16.0                   1.0              0.0               1.0   \n",
       "4034        10.0                   7.0              3.0              10.0   \n",
       "4035        41.0                  21.0              1.0              22.0   \n",
       "4036        20.0                   4.0              1.0               5.0   \n",
       "4037       179.0                 159.0             10.0             169.0   \n",
       "\n",
       "      ground  year  accidentes  \n",
       "4033     1.0  2000           1  \n",
       "4034     0.0  2000           1  \n",
       "4035     0.0  2000           1  \n",
       "4036     0.0  2000           1  \n",
       "4037     0.0  2000           1  "
      ]
     },
     "execution_count": 80,
     "metadata": {},
     "output_type": "execute_result"
    }
   ],
   "source": [
    "kpi_1['accidentes'] = 1\n",
    "kpi_1.head()"
   ]
  },
  {
   "cell_type": "code",
   "execution_count": 81,
   "metadata": {},
   "outputs": [],
   "source": [
    "mortalidad = kpi_1.groupby('year').sum()"
   ]
  },
  {
   "cell_type": "code",
   "execution_count": 82,
   "metadata": {},
   "outputs": [],
   "source": [
    "mortalidad['porcentaje'] = ((mortalidad['total_fatalities']/mortalidad['all_aboard']) *100).round(2)"
   ]
  },
  {
   "cell_type": "code",
   "execution_count": 83,
   "metadata": {},
   "outputs": [
    {
     "data": {
      "text/html": [
       "<div>\n",
       "<style scoped>\n",
       "    .dataframe tbody tr th:only-of-type {\n",
       "        vertical-align: middle;\n",
       "    }\n",
       "\n",
       "    .dataframe tbody tr th {\n",
       "        vertical-align: top;\n",
       "    }\n",
       "\n",
       "    .dataframe thead th {\n",
       "        text-align: right;\n",
       "    }\n",
       "</style>\n",
       "<table border=\"1\" class=\"dataframe\">\n",
       "  <thead>\n",
       "    <tr style=\"text-align: right;\">\n",
       "      <th></th>\n",
       "      <th>all_aboard</th>\n",
       "      <th>passenger_fatalities</th>\n",
       "      <th>crew_fatalities</th>\n",
       "      <th>total_fatalities</th>\n",
       "      <th>ground</th>\n",
       "      <th>accidentes</th>\n",
       "      <th>porcentaje</th>\n",
       "    </tr>\n",
       "    <tr>\n",
       "      <th>year</th>\n",
       "      <th></th>\n",
       "      <th></th>\n",
       "      <th></th>\n",
       "      <th></th>\n",
       "      <th></th>\n",
       "      <th></th>\n",
       "      <th></th>\n",
       "    </tr>\n",
       "  </thead>\n",
       "  <tbody>\n",
       "    <tr>\n",
       "      <th>2000</th>\n",
       "      <td>2343.0</td>\n",
       "      <td>1217.0</td>\n",
       "      <td>192.0</td>\n",
       "      <td>1430.0</td>\n",
       "      <td>23.0</td>\n",
       "      <td>63</td>\n",
       "      <td>61.03</td>\n",
       "    </tr>\n",
       "    <tr>\n",
       "      <th>2001</th>\n",
       "      <td>2040.0</td>\n",
       "      <td>1108.0</td>\n",
       "      <td>214.0</td>\n",
       "      <td>1336.0</td>\n",
       "      <td>5641.0</td>\n",
       "      <td>58</td>\n",
       "      <td>65.49</td>\n",
       "    </tr>\n",
       "    <tr>\n",
       "      <th>2002</th>\n",
       "      <td>1715.0</td>\n",
       "      <td>1153.0</td>\n",
       "      <td>218.0</td>\n",
       "      <td>1371.0</td>\n",
       "      <td>168.0</td>\n",
       "      <td>55</td>\n",
       "      <td>79.94</td>\n",
       "    </tr>\n",
       "    <tr>\n",
       "      <th>2003</th>\n",
       "      <td>1510.0</td>\n",
       "      <td>972.0</td>\n",
       "      <td>178.0</td>\n",
       "      <td>1279.0</td>\n",
       "      <td>24.0</td>\n",
       "      <td>62</td>\n",
       "      <td>84.70</td>\n",
       "    </tr>\n",
       "    <tr>\n",
       "      <th>2004</th>\n",
       "      <td>877.0</td>\n",
       "      <td>526.0</td>\n",
       "      <td>136.0</td>\n",
       "      <td>662.0</td>\n",
       "      <td>1.0</td>\n",
       "      <td>46</td>\n",
       "      <td>75.48</td>\n",
       "    </tr>\n",
       "  </tbody>\n",
       "</table>\n",
       "</div>"
      ],
      "text/plain": [
       "      all_aboard  passenger_fatalities  crew_fatalities  total_fatalities  \\\n",
       "year                                                                        \n",
       "2000      2343.0                1217.0            192.0            1430.0   \n",
       "2001      2040.0                1108.0            214.0            1336.0   \n",
       "2002      1715.0                1153.0            218.0            1371.0   \n",
       "2003      1510.0                 972.0            178.0            1279.0   \n",
       "2004       877.0                 526.0            136.0             662.0   \n",
       "\n",
       "      ground  accidentes  porcentaje  \n",
       "year                                  \n",
       "2000    23.0          63       61.03  \n",
       "2001  5641.0          58       65.49  \n",
       "2002   168.0          55       79.94  \n",
       "2003    24.0          62       84.70  \n",
       "2004     1.0          46       75.48  "
      ]
     },
     "execution_count": 83,
     "metadata": {},
     "output_type": "execute_result"
    }
   ],
   "source": [
    "mortalidad.head()"
   ]
  },
  {
   "cell_type": "code",
   "execution_count": 84,
   "metadata": {},
   "outputs": [],
   "source": [
    "mortalidad.to_csv(\"C:/Users/marti/Desktop/PI - Analytics/dataset/mortalidad.csv\")"
   ]
  },
  {
   "attachments": {},
   "cell_type": "markdown",
   "metadata": {},
   "source": [
    "KPI SUPERVIVENCIA"
   ]
  },
  {
   "cell_type": "code",
   "execution_count": 85,
   "metadata": {},
   "outputs": [],
   "source": [
    "supervivencia = mortalidad.copy()"
   ]
  },
  {
   "cell_type": "code",
   "execution_count": null,
   "metadata": {},
   "outputs": [],
   "source": [
    "columns_drop = ['passenger_fatalities', 'crew_fatalities', 'porcentaje']\n",
    "supervivencia.drop(columns=columns_drop, inplace=True)"
   ]
  },
  {
   "cell_type": "code",
   "execution_count": null,
   "metadata": {},
   "outputs": [],
   "source": [
    "supervivencia['survivors'] = (supervivencia['all_aboard'] - supervivencia['total_fatalities'])"
   ]
  },
  {
   "cell_type": "code",
   "execution_count": null,
   "metadata": {},
   "outputs": [],
   "source": [
    "supervivencia['porcentaje'] = ((1 - supervivencia['total_fatalities'] / supervivencia['all_aboard']) * 100).round(2)"
   ]
  },
  {
   "cell_type": "code",
   "execution_count": null,
   "metadata": {},
   "outputs": [
    {
     "data": {
      "text/html": [
       "<div>\n",
       "<style scoped>\n",
       "    .dataframe tbody tr th:only-of-type {\n",
       "        vertical-align: middle;\n",
       "    }\n",
       "\n",
       "    .dataframe tbody tr th {\n",
       "        vertical-align: top;\n",
       "    }\n",
       "\n",
       "    .dataframe thead th {\n",
       "        text-align: right;\n",
       "    }\n",
       "</style>\n",
       "<table border=\"1\" class=\"dataframe\">\n",
       "  <thead>\n",
       "    <tr style=\"text-align: right;\">\n",
       "      <th></th>\n",
       "      <th>all_aboard</th>\n",
       "      <th>total_fatalities</th>\n",
       "      <th>ground</th>\n",
       "      <th>accidentes</th>\n",
       "      <th>survivors</th>\n",
       "      <th>porcentaje</th>\n",
       "    </tr>\n",
       "    <tr>\n",
       "      <th>year</th>\n",
       "      <th></th>\n",
       "      <th></th>\n",
       "      <th></th>\n",
       "      <th></th>\n",
       "      <th></th>\n",
       "      <th></th>\n",
       "    </tr>\n",
       "  </thead>\n",
       "  <tbody>\n",
       "    <tr>\n",
       "      <th>2000</th>\n",
       "      <td>2343.0</td>\n",
       "      <td>1430.0</td>\n",
       "      <td>23.0</td>\n",
       "      <td>63</td>\n",
       "      <td>913.0</td>\n",
       "      <td>38.97</td>\n",
       "    </tr>\n",
       "    <tr>\n",
       "      <th>2001</th>\n",
       "      <td>2040.0</td>\n",
       "      <td>1336.0</td>\n",
       "      <td>5641.0</td>\n",
       "      <td>58</td>\n",
       "      <td>704.0</td>\n",
       "      <td>34.51</td>\n",
       "    </tr>\n",
       "    <tr>\n",
       "      <th>2002</th>\n",
       "      <td>1715.0</td>\n",
       "      <td>1371.0</td>\n",
       "      <td>168.0</td>\n",
       "      <td>55</td>\n",
       "      <td>344.0</td>\n",
       "      <td>20.06</td>\n",
       "    </tr>\n",
       "    <tr>\n",
       "      <th>2003</th>\n",
       "      <td>1510.0</td>\n",
       "      <td>1279.0</td>\n",
       "      <td>24.0</td>\n",
       "      <td>62</td>\n",
       "      <td>231.0</td>\n",
       "      <td>15.30</td>\n",
       "    </tr>\n",
       "    <tr>\n",
       "      <th>2004</th>\n",
       "      <td>877.0</td>\n",
       "      <td>662.0</td>\n",
       "      <td>1.0</td>\n",
       "      <td>46</td>\n",
       "      <td>215.0</td>\n",
       "      <td>24.52</td>\n",
       "    </tr>\n",
       "  </tbody>\n",
       "</table>\n",
       "</div>"
      ],
      "text/plain": [
       "      all_aboard  total_fatalities  ground  accidentes  survivors  porcentaje\n",
       "year                                                                         \n",
       "2000      2343.0            1430.0    23.0          63      913.0       38.97\n",
       "2001      2040.0            1336.0  5641.0          58      704.0       34.51\n",
       "2002      1715.0            1371.0   168.0          55      344.0       20.06\n",
       "2003      1510.0            1279.0    24.0          62      231.0       15.30\n",
       "2004       877.0             662.0     1.0          46      215.0       24.52"
      ]
     },
     "execution_count": 39,
     "metadata": {},
     "output_type": "execute_result"
    }
   ],
   "source": [
    "supervivencia.head()"
   ]
  },
  {
   "cell_type": "code",
   "execution_count": null,
   "metadata": {},
   "outputs": [],
   "source": [
    "supervivencia.to_csv(\"C:/Users/marti/Desktop/PI - Analytics/dataset/supervivencia.csv\")"
   ]
  },
  {
   "attachments": {},
   "cell_type": "markdown",
   "metadata": {},
   "source": [
    "KPI PAISES"
   ]
  },
  {
   "cell_type": "code",
   "execution_count": null,
   "metadata": {},
   "outputs": [
    {
     "data": {
      "text/plain": [
       "EEUU           918\n",
       "RUSSIA         252\n",
       "BRAZIL         173\n",
       "COLOMBIA       150\n",
       "CANADA         127\n",
       "INDIA          104\n",
       "FRANCE         103\n",
       "INDONESIA       99\n",
       "CHINA           93\n",
       "ENGLAND         85\n",
       "ITALY           83\n",
       "MEXICO          82\n",
       "PHILIPPINES     72\n",
       "USSR            66\n",
       "GERMANY         60\n",
       "AUSTRALIA       59\n",
       "PERU            54\n",
       "VENEZUELA       54\n",
       "SPAIN           47\n",
       "BOLIVIA         46\n",
       "Name: country, dtype: int64"
      ]
     },
     "execution_count": 55,
     "metadata": {},
     "output_type": "execute_result"
    }
   ],
   "source": [
    "accidentes_pais = data['country'].value_counts().head(20)\n",
    "accidentes_pais"
   ]
  },
  {
   "cell_type": "code",
   "execution_count": null,
   "metadata": {},
   "outputs": [],
   "source": [
    "paises = ['EEUU', 'RUSSIA', 'BRAZIL', 'COLOMBIA', 'CANADA', 'INDIA', 'FRANCE', 'INDONESIA', 'CHINA', 'ENGLAND', 'ITALY', 'MEXICO', 'PHILIPPINES', 'USSR', 'GERMANY', 'AUSTRALIA', 'PERU', 'VENEZUELA', 'SPAIN', 'BOLIVIA']\n",
    "nuevo = data[data['country'].isin(paises)]"
   ]
  },
  {
   "cell_type": "code",
   "execution_count": null,
   "metadata": {},
   "outputs": [
    {
     "data": {
      "text/plain": [
       "Index(['location', 'operator', 'route', 'type', 'all_aboard',\n",
       "       'passengers_aboard', 'crew_aboard', 'total_fatalities',\n",
       "       'passenger_fatalities', 'crew_fatalities', 'ground', 'year', 'month',\n",
       "       'day', 'country', 'decade', 'scale'],\n",
       "      dtype='object')"
      ]
     },
     "execution_count": 58,
     "metadata": {},
     "output_type": "execute_result"
    }
   ],
   "source": [
    "nuevo.columns"
   ]
  },
  {
   "cell_type": "code",
   "execution_count": null,
   "metadata": {},
   "outputs": [],
   "source": [
    "columns_drop_pais = ['location', 'operator', 'route', 'type',\n",
    "       'passengers_aboard', 'crew_aboard',\n",
    "       'passenger_fatalities', 'crew_fatalities', 'year', 'month',\n",
    "       'day', 'decade', 'scale']\n",
    "nuevo.drop(columns=columns_drop_pais, inplace=True)"
   ]
  },
  {
   "cell_type": "code",
   "execution_count": null,
   "metadata": {},
   "outputs": [],
   "source": [
    "nuevo['accidentes'] = 1"
   ]
  },
  {
   "cell_type": "code",
   "execution_count": null,
   "metadata": {},
   "outputs": [],
   "source": [
    "paises = nuevo.groupby('country').sum()"
   ]
  },
  {
   "cell_type": "code",
   "execution_count": null,
   "metadata": {},
   "outputs": [],
   "source": [
    "paises['survivors'] = paises['all_aboard'] - paises['total_fatalities']"
   ]
  },
  {
   "cell_type": "code",
   "execution_count": null,
   "metadata": {},
   "outputs": [
    {
     "data": {
      "text/html": [
       "<div>\n",
       "<style scoped>\n",
       "    .dataframe tbody tr th:only-of-type {\n",
       "        vertical-align: middle;\n",
       "    }\n",
       "\n",
       "    .dataframe tbody tr th {\n",
       "        vertical-align: top;\n",
       "    }\n",
       "\n",
       "    .dataframe thead th {\n",
       "        text-align: right;\n",
       "    }\n",
       "</style>\n",
       "<table border=\"1\" class=\"dataframe\">\n",
       "  <thead>\n",
       "    <tr style=\"text-align: right;\">\n",
       "      <th></th>\n",
       "      <th>all_aboard</th>\n",
       "      <th>total_fatalities</th>\n",
       "      <th>ground</th>\n",
       "      <th>accidentes</th>\n",
       "      <th>survivors</th>\n",
       "    </tr>\n",
       "    <tr>\n",
       "      <th>country</th>\n",
       "      <th></th>\n",
       "      <th></th>\n",
       "      <th></th>\n",
       "      <th></th>\n",
       "      <th></th>\n",
       "    </tr>\n",
       "  </thead>\n",
       "  <tbody>\n",
       "    <tr>\n",
       "      <th>AUSTRALIA</th>\n",
       "      <td>679.0</td>\n",
       "      <td>578.0</td>\n",
       "      <td>0.0</td>\n",
       "      <td>59</td>\n",
       "      <td>101.0</td>\n",
       "    </tr>\n",
       "    <tr>\n",
       "      <th>BOLIVIA</th>\n",
       "      <td>735.0</td>\n",
       "      <td>669.0</td>\n",
       "      <td>114.0</td>\n",
       "      <td>46</td>\n",
       "      <td>66.0</td>\n",
       "    </tr>\n",
       "    <tr>\n",
       "      <th>BRAZIL</th>\n",
       "      <td>4491.0</td>\n",
       "      <td>3173.0</td>\n",
       "      <td>65.0</td>\n",
       "      <td>173</td>\n",
       "      <td>1318.0</td>\n",
       "    </tr>\n",
       "    <tr>\n",
       "      <th>CANADA</th>\n",
       "      <td>2666.0</td>\n",
       "      <td>1761.0</td>\n",
       "      <td>15.0</td>\n",
       "      <td>127</td>\n",
       "      <td>905.0</td>\n",
       "    </tr>\n",
       "    <tr>\n",
       "      <th>CHINA</th>\n",
       "      <td>3605.0</td>\n",
       "      <td>2266.0</td>\n",
       "      <td>55.0</td>\n",
       "      <td>93</td>\n",
       "      <td>1339.0</td>\n",
       "    </tr>\n",
       "  </tbody>\n",
       "</table>\n",
       "</div>"
      ],
      "text/plain": [
       "           all_aboard  total_fatalities  ground  accidentes  survivors\n",
       "country                                                               \n",
       "AUSTRALIA       679.0             578.0     0.0          59      101.0\n",
       "BOLIVIA         735.0             669.0   114.0          46       66.0\n",
       "BRAZIL         4491.0            3173.0    65.0         173     1318.0\n",
       "CANADA         2666.0            1761.0    15.0         127      905.0\n",
       "CHINA          3605.0            2266.0    55.0          93     1339.0"
      ]
     },
     "execution_count": 66,
     "metadata": {},
     "output_type": "execute_result"
    }
   ],
   "source": [
    "paises.head()"
   ]
  },
  {
   "cell_type": "code",
   "execution_count": null,
   "metadata": {},
   "outputs": [],
   "source": [
    "paises.to_csv(\"C:/Users/marti/Desktop/PI - Analytics/dataset/paises.csv\")"
   ]
  }
 ],
 "metadata": {
  "kernelspec": {
   "display_name": "Python 3",
   "language": "python",
   "name": "python3"
  },
  "language_info": {
   "codemirror_mode": {
    "name": "ipython",
    "version": 3
   },
   "file_extension": ".py",
   "mimetype": "text/x-python",
   "name": "python",
   "nbconvert_exporter": "python",
   "pygments_lexer": "ipython3",
   "version": "3.11.1"
  },
  "orig_nbformat": 4
 },
 "nbformat": 4,
 "nbformat_minor": 2
}
